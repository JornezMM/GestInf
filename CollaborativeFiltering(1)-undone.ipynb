{
 "cells": [
  {
   "cell_type": "markdown",
   "metadata": {
    "slideshow": {
     "slide_type": "slide"
    }
   },
   "source": [
    "<img src=\"http://www.ubu.es/sites/default/files/portal_page/images/logo_color_2l_dcha.jpg\" height=\"150\" width=\"150\" align=\"right\"/>"
   ]
  },
  {
   "cell_type": "markdown",
   "metadata": {
    "slideshow": {
     "slide_type": "-"
    }
   },
   "source": [
    "## Collaborative Filtering (1)\n",
    "[Nacho Santos](www.nacho.santos.name)"
   ]
  },
  {
   "cell_type": "markdown",
   "metadata": {
    "slideshow": {
     "slide_type": "slide"
    }
   },
   "source": [
    "## Introduction\n",
    "The purpose of this assignment is to implement a **collaborative filtering algorithm** in python. This assignment is based on the course “Machine learning” by Andrew N https://www.coursera.org/course/ml. Before starting the work, you should read carefully the cooperative filtering algorithm explained in [class](https://docs.google.com/presentation/d/1OF1gE-ycuI01ds_lXwle6JnrCZMBHKSFgFSBh0LOYlU/edit?usp=sharing). Besides, you can watch the [videos](https://drive.google.com/file/d/0B-Y_cBY4Vgw9dVNrT3VfYU80RWs/view?usp=sharing) from the course Machine Learning where Andrew Ng introduces and explains the collaborative filtering.\n",
    "\n",
    "On the other hand, it is necessary to use the Numpy library. You can learn the fundaments of Numpy following the next tutorials: [Introduction to Numpy](https://anaconda.org/jismartin/intro_numpy/notebook) and [Introduction to Matplotlib](https://anaconda.org/jismartin/intro_matplotlib/notebook)\n",
    "\n",
    "The work is divided into progressive parts. Some functions have already been implemented to help you to test the code. These functions are in the python file **\"recommender_systema.py\"** provided with this interactive notebook. \n",
    "\n",
    "**Your task is to complete the python code when you are asked to do it**."
   ]
  },
  {
   "cell_type": "markdown",
   "metadata": {
    "slideshow": {
     "slide_type": "slide"
    }
   },
   "source": [
    "## Import python packages"
   ]
  },
  {
   "cell_type": "code",
   "execution_count": 2,
   "metadata": {
    "slideshow": {
     "slide_type": "-"
    }
   },
   "outputs": [],
   "source": [
    "import numpy as np\n",
    "import matplotlib.pyplot as plt"
   ]
  },
  {
   "cell_type": "code",
   "execution_count": 3,
   "metadata": {
    "slideshow": {
     "slide_type": "-"
    }
   },
   "outputs": [],
   "source": [
    "# This line is necessary to show matplotlib plots inside the jupyter notebook\n",
    "%matplotlib inline"
   ]
  },
  {
   "cell_type": "markdown",
   "metadata": {
    "slideshow": {
     "slide_type": "slide"
    }
   },
   "source": [
    "## 1. Download movies database and prepare data\n",
    "**Download** movielens 100k dataset **\"ml-100k.zip\"** from http://grouplens.org/datasets/movielens/100k/\n",
    "The file \"README.TXT\" describes tha dataset composed by different files. In particular, you only need the files:\n",
    "* \"u.data\" that contains the ratings on scale 1 to 5. Users and items are numbered consecutively from 1. The data is randomly ordered in rows with the next format: *user_id | item_id | rating | timestamp*\n",
    "* \"u.item\" that contains the information about the movies\n",
    "\n",
    "**Copy these two files** into the working folder of the jupyter notebook"
   ]
  },
  {
   "cell_type": "markdown",
   "metadata": {
    "slideshow": {
     "slide_type": "slide"
    }
   },
   "source": [
    "### 1.1 Import data\n",
    "\n",
    "Fisrt, we import the names of the movies. We use the Pandas library (http://pandas.pydata.org/) to read the \"u.item\", remove all unnecessary values and keep only the names."
   ]
  },
  {
   "cell_type": "code",
   "execution_count": 4,
   "metadata": {
    "slideshow": {
     "slide_type": "-"
    }
   },
   "outputs": [
    {
     "data": {
      "text/html": [
       "<div>\n",
       "<style scoped>\n",
       "    .dataframe tbody tr th:only-of-type {\n",
       "        vertical-align: middle;\n",
       "    }\n",
       "\n",
       "    .dataframe tbody tr th {\n",
       "        vertical-align: top;\n",
       "    }\n",
       "\n",
       "    .dataframe thead th {\n",
       "        text-align: right;\n",
       "    }\n",
       "</style>\n",
       "<table border=\"1\" class=\"dataframe\">\n",
       "  <thead>\n",
       "    <tr style=\"text-align: right;\">\n",
       "      <th></th>\n",
       "      <th>itemid</th>\n",
       "      <th>title</th>\n",
       "    </tr>\n",
       "  </thead>\n",
       "  <tbody>\n",
       "    <tr>\n",
       "      <th>0</th>\n",
       "      <td>1</td>\n",
       "      <td>Toy Story (1995)</td>\n",
       "    </tr>\n",
       "    <tr>\n",
       "      <th>1</th>\n",
       "      <td>2</td>\n",
       "      <td>GoldenEye (1995)</td>\n",
       "    </tr>\n",
       "    <tr>\n",
       "      <th>2</th>\n",
       "      <td>3</td>\n",
       "      <td>Four Rooms (1995)</td>\n",
       "    </tr>\n",
       "    <tr>\n",
       "      <th>3</th>\n",
       "      <td>4</td>\n",
       "      <td>Get Shorty (1995)</td>\n",
       "    </tr>\n",
       "    <tr>\n",
       "      <th>4</th>\n",
       "      <td>5</td>\n",
       "      <td>Copycat (1995)</td>\n",
       "    </tr>\n",
       "  </tbody>\n",
       "</table>\n",
       "</div>"
      ],
      "text/plain": [
       "   itemid              title\n",
       "0       1   Toy Story (1995)\n",
       "1       2   GoldenEye (1995)\n",
       "2       3  Four Rooms (1995)\n",
       "3       4  Get Shorty (1995)\n",
       "4       5     Copycat (1995)"
      ]
     },
     "execution_count": 4,
     "metadata": {},
     "output_type": "execute_result"
    }
   ],
   "source": [
    "# import pandas\n",
    "from pandas import read_table\n",
    "# read csv file\n",
    "items = read_table('u.item',header=None,sep='|',encoding='ISO-8859-1')\n",
    "# remove collumns 2-24\n",
    "items.drop(range(2,24),axis=1, inplace=True)\n",
    "# name the columns\n",
    "items.columns = ['itemid','title']\n",
    "# show the first 5 rows of the dataframe\n",
    "items.head()\n"
   ]
  },
  {
   "cell_type": "markdown",
   "metadata": {
    "slideshow": {
     "slide_type": "slide"
    }
   },
   "source": [
    "The dataframe \"items\" contains the column \"itemid\" with the Movielens index of each movie, and the column \"title\"  with the title of each movie. If you want to get the name of the i-th movie, you can use the method *iloc*"
   ]
  },
  {
   "cell_type": "code",
   "execution_count": 5,
   "metadata": {},
   "outputs": [
    {
     "data": {
      "text/plain": [
       "'Birdcage, The (1996)'"
      ]
     },
     "execution_count": 5,
     "metadata": {},
     "output_type": "execute_result"
    }
   ],
   "source": [
    "# show the name of the 25-th movie (remember, in python the index always starts from 0)\n",
    "items.iloc[24]['title']"
   ]
  },
  {
   "cell_type": "markdown",
   "metadata": {
    "slideshow": {
     "slide_type": "slide"
    }
   },
   "source": [
    "### Task 1\n",
    "***\n",
    "Now, **you have to import** the ratings from the file 'u.data'. \n",
    "#### Tips\n",
    "* You can read a text file into a Numpy array using the function [genfromtxt](https://docs.scipy.org/doc/numpy/reference/generated/numpy.genfromtxt.html) (use the *delimiter='\\t'* to split columns)"
   ]
  },
  {
   "cell_type": "code",
   "execution_count": 6,
   "metadata": {
    "collapsed": true,
    "slideshow": {
     "slide_type": "slide"
    }
   },
   "outputs": [
    {
     "data": {
      "text/plain": [
       "array([[1.96000000e+02, 2.42000000e+02, 3.00000000e+00, 8.81250949e+08],\n",
       "       [1.86000000e+02, 3.02000000e+02, 3.00000000e+00, 8.91717742e+08],\n",
       "       [2.20000000e+01, 3.77000000e+02, 1.00000000e+00, 8.78887116e+08],\n",
       "       ...,\n",
       "       [2.76000000e+02, 1.09000000e+03, 1.00000000e+00, 8.74795795e+08],\n",
       "       [1.30000000e+01, 2.25000000e+02, 2.00000000e+00, 8.82399156e+08],\n",
       "       [1.20000000e+01, 2.03000000e+02, 3.00000000e+00, 8.79959583e+08]])"
      ]
     },
     "execution_count": 6,
     "metadata": {},
     "output_type": "execute_result"
    }
   ],
   "source": [
    "# Task: import ratings\n",
    "# YOUR CODE ..................................\n",
    "\n",
    "np.genfromtxt('u.data', delimiter='\\t')\n",
    "\n",
    "\n",
    "\n"
   ]
  },
  {
   "cell_type": "markdown",
   "metadata": {},
   "source": [
    "### 1.2 Build arrays Y, R"
   ]
  },
  {
   "cell_type": "markdown",
   "metadata": {
    "slideshow": {
     "slide_type": "slide"
    }
   },
   "source": [
    "### Task 2\n",
    "***\n",
    "Now, **you have to build** the matrices Y and R. \n",
    "\n",
    "The *n_movies x n_users (mxu)* matrix Y represents (by columns) the ratings that each user gave to the movies she watched\n",
    "\n",
    "$Y=\\begin{bmatrix}y^{(1,1)} & ...& y^{(1,u)} \\\\. & ...& .\\\\y^{(m,1)} & ...& y^{(m,u)} \\end{bmatrix}$\n",
    "\n",
    "The matrix R is complementary to Y. R has the same dimension of Y, i.e. *n_movies x n_users (mxu)*, and represents (by columns) if a user watched a movie (1) or did not (0).\n",
    "\n",
    "$R=\\begin{bmatrix}r^{(1,1)} & ...& r^{(1,u)} \\\\. & ...& .\\\\r^{(m,1)} & ...& r^{(m,u)} \\end{bmatrix}$\n",
    "\n",
    "where\n",
    "\n",
    "$r^{(i,j)}=\\begin{cases}1 & user(j) \\ watched \\ movie(i)\\\\0 & otherwise\\end{cases}$\n",
    "\n",
    "#### Tips\n",
    "* Remember that in Numpy the index array always starts with 0, i.e. the row 0 of the matrix Y represents the ratings of the movie 1 of Movielens database, similarly, the column 0 of the matrix Y represents the ratings of the user 1 of the Movielens database.\n",
    "* The Numpy function **unique()** returns the sorted unique elements of an array; it may be useful to get the list of users and movies from the rating database\n",
    "* The Numpy function **zeros()** returns a matrix of zeros \n",
    "* Supposing a Numpy array A, the function **A.shape[0]** returns the number of rows, and **A.shape[1]** the number of columns"
   ]
  },
  {
   "cell_type": "code",
   "execution_count": 7,
   "metadata": {
    "collapsed": true,
    "slideshow": {
     "slide_type": "slide"
    }
   },
   "outputs": [
    {
     "name": "stdout",
     "output_type": "stream",
     "text": [
      "[[5. 4. 0. ... 5. 0. 0.]\n",
      " [3. 0. 0. ... 0. 0. 5.]\n",
      " [4. 0. 0. ... 0. 0. 0.]\n",
      " ...\n",
      " [0. 0. 0. ... 0. 0. 0.]\n",
      " [0. 0. 0. ... 0. 0. 0.]\n",
      " [0. 0. 0. ... 0. 0. 0.]] [[1. 1. 0. ... 1. 0. 0.]\n",
      " [1. 0. 0. ... 0. 0. 1.]\n",
      " [1. 0. 0. ... 0. 0. 0.]\n",
      " ...\n",
      " [0. 0. 0. ... 0. 0. 0.]\n",
      " [0. 0. 0. ... 0. 0. 0.]\n",
      " [0. 0. 0. ... 0. 0. 0.]]\n"
     ]
    }
   ],
   "source": [
    "# Task: bulid matrices Y and R\n",
    "# YOUR CODE ..................................\n",
    "items = read_table('u.item',header=None,sep='|',encoding='ISO-8859-1')\n",
    "# remove collumns 2-24\n",
    "items.drop(range(1,24),axis=1, inplace=True)\n",
    "# name the columns\n",
    "\n",
    "user = read_table('u.user',header=None,sep='|',encoding='ISO-8859-1')\n",
    "# remove collumns 1-5\n",
    "user.drop(range(1,5),axis=1, inplace=True)\n",
    "# name the columns\n",
    "valoraciones=np.genfromtxt('u.data', delimiter='\\t')\n",
    "\n",
    "user.columns = ['userid']\n",
    "R=np.zeros((items.size,user.size))\n",
    "Y=np.zeros((items.size,user.size))\n",
    "\n",
    "\n",
    "for a in valoraciones:\n",
    "    Y[int(a[1])-1][int(a[0])-1]=a[2]\n",
    "    R[int(a[1])-1][int(a[0])-1]=1\n",
    "\n",
    "print(Y,R)\n",
    "\n"
   ]
  },
  {
   "cell_type": "markdown",
   "metadata": {},
   "source": [
    "### 1.3 Using matrices Y and R"
   ]
  },
  {
   "cell_type": "markdown",
   "metadata": {
    "slideshow": {
     "slide_type": "slide"
    }
   },
   "source": [
    "### Task 3\n",
    "***\n",
    "**Answer** the next questions:\n",
    "1. How many movies did the Movielens user 12 watch?\n",
    "2. What is the minimum rating of the Movielens user 12 ? And the maximum?\n",
    "3. What is the maximum rating of the Movielens user 12 ?\n",
    "4. What are the movie indices that the Movielens user 12 watched? And the user 11?\n",
    "5. What are the movie indices that both the Movielens user 12 and 11 watched?\n",
    "\n",
    "#### Tips\n",
    "* The Numpy function **where(A>0)** returns the indices of the elements of A where the condition >0 is true\n"
   ]
  },
  {
   "cell_type": "code",
   "execution_count": 8,
   "metadata": {
    "slideshow": {
     "slide_type": "slide"
    }
   },
   "outputs": [
    {
     "name": "stdout",
     "output_type": "stream",
     "text": [
      "51.0\n",
      "5.0\n",
      "1.0\n",
      "(array([  3,  14,  27,  49,  68,  70,  81,  87,  95,  96,  97, 126, 131,\n",
      "       132, 142, 156, 158, 160, 167, 169, 171, 173, 190, 194, 195, 199,\n",
      "       201, 202, 203, 214, 215, 227, 237, 241, 275, 281, 299, 317, 327,\n",
      "       380, 391, 401, 415, 470, 479, 590, 683, 707, 734, 752, 753],\n",
      "      dtype=int64),)\n",
      "(array([  7,   8,  10,  11,  14,  21,  23,  24,  27,  28,  37,  38,  39,\n",
      "        41,  46,  50,  51,  53,  55,  56,  57,  68,  69,  78,  82,  85,\n",
      "        87,  89,  93,  96,  97,  99, 106, 108, 109, 110, 119, 120, 122,\n",
      "       124, 134, 167, 172, 174, 175, 179, 184, 189, 190, 193, 195, 202,\n",
      "       203, 207, 210, 212, 214, 215, 221, 226, 227, 228, 229, 236, 237,\n",
      "       238, 240, 257, 258, 259, 267, 273, 276, 285, 289, 290, 299, 300,\n",
      "       311, 316, 317, 323, 331, 349, 355, 356, 364, 366, 369, 371, 381,\n",
      "       382, 385, 392, 394, 398, 400, 401, 404, 413, 422, 424, 426, 427,\n",
      "       428, 429, 430, 432, 433, 434, 448, 450, 454, 503, 507, 516, 520,\n",
      "       523, 525, 526, 543, 548, 557, 560, 572, 576, 579, 596, 602, 645,\n",
      "       651, 653, 658, 659, 661, 662, 689, 691, 698, 706, 709, 712, 713,\n",
      "       714, 715, 716, 717, 718, 719, 720, 721, 722, 723, 724, 725, 726,\n",
      "       727, 728, 729, 730, 731, 732, 733, 734, 735, 736, 737, 738, 739,\n",
      "       740, 741, 742, 743, 744, 745, 746, 747, 748, 749, 750, 751],\n",
      "      dtype=int64),)\n",
      "(array([ 14,  27,  68,  87,  96,  97, 167, 190, 195, 202, 203, 214, 215,\n",
      "       227, 237, 299, 317, 401, 734], dtype=int64),)\n"
     ]
    }
   ],
   "source": [
    "# Task: explore Y and R\n",
    "# YOUR CODE ..................................\n",
    "user12=R[:,11]\n",
    "# print(np.where(user12==1,Y[:,11]))\n",
    "\n",
    "print(sum(user12))\n",
    "print(max(Y[R[:,11]==1,11]))\n",
    "print(min(Y[R[:,11]==1,11]))\n",
    "print(np.where(user12==1))\n",
    "user11=R[:,10]\n",
    "print(np.where(user11==1))\n",
    "\n",
    "print(np.where((user11==1) & (user12==1)))\n",
    "\n",
    "\n"
   ]
  },
  {
   "cell_type": "markdown",
   "metadata": {},
   "source": [
    "### 1.4 Checking Y and R"
   ]
  },
  {
   "cell_type": "markdown",
   "metadata": {
    "slideshow": {
     "slide_type": "slide"
    }
   },
   "source": [
    "### Task 4\n",
    "***\n",
    "Check the matrices Y and R computed above by calculating some statistics (your values must be equal to the values shown below)\n",
    "\n",
    "* number of users: 943\n",
    "* number of movies: 1682\n",
    "* dimension of Y: (1682,943)\n",
    "* dimension of R: (1682,943)\n",
    "* number of ratings: 100000\n",
    "* number of nonzero elements of R: 100000\n",
    "* average rating: 3.5299\n",
    "* maximum rating: 5.0000\n",
    "* minimum rating: 1.0000\n",
    "* average rating of the movie 1: 3.8783\n",
    "* average rating of the movie 10: 3.8315\n",
    "* average rating of the movie 100: 4.1555\n",
    "* average rating of the movie 1000: 3.0000 \n",
    "* average rating of the user 1: 3.6103\n",
    "* average rating of the user 10: 4.2065\n",
    "* average rating of the user 100: 3.0678\n",
    "* average rating of the user 900: 2.5556\n",
    "\n",
    "#### Tips\n",
    "* Suppose the user i. Note that the average of ratings is over the movies that user i watched, so you have to consider only the values Y(j,i) such as the corresponding R(j,i) is equal to one."
   ]
  },
  {
   "cell_type": "code",
   "execution_count": 9,
   "metadata": {
    "slideshow": {
     "slide_type": "slide"
    }
   },
   "outputs": [
    {
     "name": "stdout",
     "output_type": "stream",
     "text": [
      "943\n",
      "1682\n",
      "(1682, 943)\n",
      "(1682, 943)\n",
      "100000\n",
      "100000\n",
      "3.52986\n",
      "1.0\n",
      "5.0\n",
      "3.8783185840707963\n",
      "3.831460674157303\n",
      "4.155511811023622\n",
      "3.0\n",
      "3.610294117647059\n",
      "4.206521739130435\n",
      "3.0677966101694913\n",
      "2.5555555555555554\n"
     ]
    }
   ],
   "source": [
    "# Task: check Y and R\n",
    "# YOUR CODE ..................................\n",
    "print(Y.shape[1])\n",
    "print(Y.shape[0])\n",
    "print(Y.shape) \n",
    "print(R.shape)\n",
    "print(np.count_nonzero(R))\n",
    "print(np.count_nonzero(Y))\n",
    "print(np.average(Y[R==1]))\n",
    "print(np.min(Y[R==1]))\n",
    "print(np.max(Y[R==1]))\n",
    "print(np.average(Y[0][R[0]==1]))\n",
    "print(np.average(Y[9][R[9]==1]))\n",
    "print(np.average(Y[99][R[99]==1]))\n",
    "print(np.average(Y[999][R[999]==1]))\n",
    "print(np.average(Y[R[:,0]==1,0]))\n",
    "print(np.average(Y[R[:,9]==1,9]))\n",
    "print(np.average(Y[R[:,99]==1,99]))\n",
    "print(np.average(Y[R[:,899]==1,899]))\n",
    "\n",
    "\n",
    "\n",
    "\n",
    "\n",
    "\n",
    "\n"
   ]
  },
  {
   "cell_type": "markdown",
   "metadata": {},
   "source": [
    "### 1.5 Sparse matrix Y"
   ]
  },
  {
   "cell_type": "markdown",
   "metadata": {
    "slideshow": {
     "slide_type": "slide"
    }
   },
   "source": [
    "### Task 5\n",
    "***\n",
    "You can use the Numpy function **matshow()** to show that the matrix Y is sparse (most values are zero because they correspond to movies that have not been watched). You should get a plot similar to the next one:\n",
    "<img src=\"https://goo.gl/dk84YT\" height=\"400\" width=\"300\" align=\"centre\"/>"
   ]
  },
  {
   "cell_type": "code",
   "execution_count": 10,
   "metadata": {
    "slideshow": {
     "slide_type": "slide"
    }
   },
   "outputs": [
    {
     "data": {
      "text/plain": [
       "<matplotlib.image.AxesImage at 0x1fb1fa3df40>"
      ]
     },
     "execution_count": 10,
     "metadata": {},
     "output_type": "execute_result"
    },
    {
     "data": {
      "image/png": "[encoded data removed]",
      "text/plain": [
       "<Figure size 288x513.697 with 1 Axes>"
      ]
     },
     "metadata": {
      "needs_background": "light"
     },
     "output_type": "display_data"
    }
   ],
   "source": [
    "# Task: show matrix Y\n",
    "# YOUR CODE ..................................\n",
    "\n",
    "plt.matshow(Y)\n",
    "\n",
    "\n",
    "\n",
    "\n"
   ]
  },
  {
   "cell_type": "markdown",
   "metadata": {
    "slideshow": {
     "slide_type": "slide"
    }
   },
   "source": [
    "### 1.6 Save variables"
   ]
  },
  {
   "cell_type": "markdown",
   "metadata": {},
   "source": [
    "### Task 6\n",
    "***\n",
    "Finally, save the matrices Y and R so you can load them in another notebook."
   ]
  },
  {
   "cell_type": "code",
   "execution_count": 11,
   "metadata": {
    "collapsed": true,
    "slideshow": {
     "slide_type": "-"
    }
   },
   "outputs": [],
   "source": [
    "# Task: save a matrix Y and R\n",
    "# YOUR CODE ..................................\n",
    "\n",
    "np.save('Y.npy',Y)\n",
    "np.save('R.npy',R)\n",
    "\n",
    "\n",
    "\n",
    "\n",
    "\n"
   ]
  }
 ],
 "metadata": {
  "anaconda-cloud": {},
  "celltoolbar": "Slideshow",
  "kernelspec": {
   "display_name": "Python 3.9.12 ('base')",
   "language": "python",
   "name": "python3"
  },
  "language_info": {
   "codemirror_mode": {
    "name": "ipython",
    "version": 3
   },
   "file_extension": ".py",
   "mimetype": "text/x-python",
   "name": "python",
   "nbconvert_exporter": "python",
   "pygments_lexer": "ipython3",
   "version": "3.9.12"
  },
  "vscode": {
   "interpreter": {
    "hash": "9412b45e6a57aa9914730508726d49801d3b2c579f461e1fb13c705887a7b1f6"
   }
  }
 },
 "nbformat": 4,
 "nbformat_minor": 1
}
